{
 "cells": [
  {
   "cell_type": "markdown",
   "metadata": {},
   "source": [
    "# EXAMEN EXTRAORDINARIO\n",
    "\n",
    "## 1588292  Rodríguez de los Reyes, Laura Estefany"
   ]
  },
  {
   "cell_type": "markdown",
   "metadata": {},
   "source": [
    "### Ejercicios:\n",
    "\n",
    "1.\tHaz una función que te imprima listas de números enteros aleatorios con cantidad de 5, 10, 15 elementos. \n",
    "\n",
    "2.\tCon la función que generaste toma la lista de 15, y haz una función que te indique cual de los números es el mayor, y otra que te indique cual es el menor. \n",
    "\n",
    "3.\tToma las listas y ordénalas de mayor a menor, y de menor a mayor. \n",
    "\n",
    "4.\tHaz una sola lista que contenga todos los elementos pares de las 3 primeras listas. \n",
    "\n",
    "5.\tReemplazar todos los números impares del arreglo de 15 elementos del ejercicio 1.) con un -1.\n",
    "\n"
   ]
  },
  {
   "cell_type": "code",
   "execution_count": 76,
   "metadata": {},
   "outputs": [],
   "source": [
    "import random"
   ]
  },
  {
   "cell_type": "markdown",
   "metadata": {},
   "source": [
    "Definimos fun(li,n) en la cual se generarán n números aleatorios entre 1 y 100 y los añadirá a una lista"
   ]
  },
  {
   "cell_type": "code",
   "execution_count": 77,
   "metadata": {},
   "outputs": [],
   "source": [
    "def fun(li,n):\n",
    "    #Esta función va a tomar la lista y el tamaño para generar n números aleatorios y los añadirá en la lista\n",
    "    #Tomaré que generé números aleatorios del 1 al 100\n",
    "    for i in range(n):\n",
    "        li.append(random.randint(1,100))\n",
    "    print(li)"
   ]
  },
  {
   "cell_type": "markdown",
   "metadata": {},
   "source": [
    "Ahora se define la función mayor(li) en la cual me va a regresar el número mayor de la lista "
   ]
  },
  {
   "cell_type": "code",
   "execution_count": 78,
   "metadata": {},
   "outputs": [],
   "source": [
    "#Defino la función que me indica cual de los números es mayor\n",
    "def mayor(li):\n",
    "    #max(list) va a regresar el número mayor\n",
    "    return max(li)"
   ]
  },
  {
   "cell_type": "markdown",
   "metadata": {},
   "source": [
    "Defino la función menor(li) en la cual me va a regresar el número menor de la lista "
   ]
  },
  {
   "cell_type": "code",
   "execution_count": 79,
   "metadata": {},
   "outputs": [],
   "source": [
    "#Defino la función que me indica cual de los números es menor\n",
    "def menor(li):\n",
    "    #min(list) va a generar el número menor\n",
    "    return min(li)"
   ]
  },
  {
   "cell_type": "markdown",
   "metadata": {},
   "source": [
    "Defino las listas a, b, c"
   ]
  },
  {
   "cell_type": "code",
   "execution_count": 80,
   "metadata": {},
   "outputs": [],
   "source": [
    "#Tenemos tres listas\n",
    "a=[]\n",
    "b=[]\n",
    "c=[]\n"
   ]
  },
  {
   "cell_type": "markdown",
   "metadata": {},
   "source": [
    "Añadimos los números a las listas   \n",
    "\n",
    "* Lista a: 5 elementos   \n",
    "* Lista b: 10 elementos   \n",
    "* Lista c: 15 elementos\n"
   ]
  },
  {
   "cell_type": "code",
   "execution_count": 81,
   "metadata": {},
   "outputs": [
    {
     "name": "stdout",
     "output_type": "stream",
     "text": [
      "[67, 48, 14, 51, 99]\n",
      "[59, 46, 56, 56, 96, 36, 41, 37, 11, 29]\n",
      "[80, 15, 77, 59, 90, 54, 43, 34, 19, 37, 28, 7, 32, 95, 65]\n"
     ]
    }
   ],
   "source": [
    "#Se añaden los números aleatorios a las listas \n",
    "#a->lista con 5 elementos\n",
    "#b->lista con 10 elementos\n",
    "#c->lista con 15 elementos\n",
    "\n",
    "fun(a,5) \n",
    "fun(b,10)\n",
    "fun(c,15)\n"
   ]
  },
  {
   "cell_type": "markdown",
   "metadata": {},
   "source": [
    "Los números mayor y menor de la lista c que contiene 15 elementos son:"
   ]
  },
  {
   "cell_type": "code",
   "execution_count": 82,
   "metadata": {},
   "outputs": [
    {
     "name": "stdout",
     "output_type": "stream",
     "text": [
      "Número mayor: 95\n",
      "Número menor: 7\n"
     ]
    }
   ],
   "source": [
    "#Los números mayor y menor de la lista c que contiene 15 elementos son:\n",
    "print(\"Número mayor:\",mayor(c))\n",
    "print(\"Número menor:\",menor(c))"
   ]
  },
  {
   "cell_type": "markdown",
   "metadata": {},
   "source": [
    "Toma las listas y ordénalas de mayor a menor, y de menor a mayor."
   ]
  },
  {
   "cell_type": "code",
   "execution_count": 83,
   "metadata": {},
   "outputs": [],
   "source": [
    "#sorted(list) va a ordenar los números de la lista del menor al mayor\n",
    "#sorted(list,reverse=True) va a ordener los números de la lista de mayor a menor\n"
   ]
  },
  {
   "cell_type": "markdown",
   "metadata": {},
   "source": [
    "##### Lista a:\n"
   ]
  },
  {
   "cell_type": "code",
   "execution_count": 84,
   "metadata": {},
   "outputs": [
    {
     "name": "stdout",
     "output_type": "stream",
     "text": [
      "[14, 48, 51, 67, 99]\n",
      "[99, 67, 51, 48, 14]\n"
     ]
    }
   ],
   "source": [
    "#Lista a\n",
    "print(sorted(a))\n",
    "print(sorted(a,reverse=True))\n",
    "\n"
   ]
  },
  {
   "cell_type": "markdown",
   "metadata": {},
   "source": [
    "##### Lista b:\n"
   ]
  },
  {
   "cell_type": "code",
   "execution_count": 85,
   "metadata": {},
   "outputs": [
    {
     "name": "stdout",
     "output_type": "stream",
     "text": [
      "[11, 29, 36, 37, 41, 46, 56, 56, 59, 96]\n",
      "[96, 59, 56, 56, 46, 41, 37, 36, 29, 11]\n"
     ]
    }
   ],
   "source": [
    "#Lista b\n",
    "print(sorted(b))\n",
    "print(sorted(b,reverse=True))\n",
    "\n"
   ]
  },
  {
   "cell_type": "markdown",
   "metadata": {},
   "source": [
    "##### Lista c:\n"
   ]
  },
  {
   "cell_type": "code",
   "execution_count": 86,
   "metadata": {},
   "outputs": [
    {
     "name": "stdout",
     "output_type": "stream",
     "text": [
      "[7, 15, 19, 28, 32, 34, 37, 43, 54, 59, 65, 77, 80, 90, 95]\n",
      "[95, 90, 80, 77, 65, 59, 54, 43, 37, 34, 32, 28, 19, 15, 7]\n"
     ]
    }
   ],
   "source": [
    "#Lista c\n",
    "print(sorted(c))\n",
    "print(sorted(c,reverse=True))"
   ]
  },
  {
   "cell_type": "markdown",
   "metadata": {},
   "source": [
    "Reemplazar todos los números impares de la lista c con 15 elementos con un -1."
   ]
  },
  {
   "cell_type": "code",
   "execution_count": 87,
   "metadata": {},
   "outputs": [
    {
     "name": "stdout",
     "output_type": "stream",
     "text": [
      "[48, 14, 46, 56, 56, 96, 36, 80, 90, 54, 34, 28, 32]\n"
     ]
    }
   ],
   "source": [
    "x=[]\n",
    "#Leer el contenido de todas las listas\n",
    "for i in a,b,c:\n",
    "    for j in i:\n",
    "        #tomamos todos los elementos pares de las listas y añadimos a una lista x\n",
    "        if(j%2==0):\n",
    "            x.append(j)\n",
    "print(x)"
   ]
  },
  {
   "cell_type": "code",
   "execution_count": 88,
   "metadata": {},
   "outputs": [
    {
     "name": "stdout",
     "output_type": "stream",
     "text": [
      "[80, -1, -1, -1, 90, 54, -1, 34, -1, -1, 28, -1, 32, -1, -1]\n"
     ]
    }
   ],
   "source": [
    "for i in range(len(c)):\n",
    "    #Reemplazamos los números impares con -1 de la lista c\n",
    "    if(c[i]%2!=0):\n",
    "        c[i]=-1\n",
    "print(c)"
   ]
  },
  {
   "cell_type": "code",
   "execution_count": null,
   "metadata": {},
   "outputs": [],
   "source": []
  }
 ],
 "metadata": {
  "kernelspec": {
   "display_name": "Python 3",
   "language": "python",
   "name": "python3"
  },
  "language_info": {
   "codemirror_mode": {
    "name": "ipython",
    "version": 3
   },
   "file_extension": ".py",
   "mimetype": "text/x-python",
   "name": "python",
   "nbconvert_exporter": "python",
   "pygments_lexer": "ipython3",
   "version": "3.8.3"
  }
 },
 "nbformat": 4,
 "nbformat_minor": 4
}
