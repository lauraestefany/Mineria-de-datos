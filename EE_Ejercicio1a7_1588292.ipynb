{
 "cells": [
  {
   "cell_type": "markdown",
   "metadata": {},
   "source": [
    "# EXAMEN EXTRAORDINARIO\n",
    "\n",
    "## 1588292  Rodríguez de los Reyes, Laura Estefany"
   ]
  },
  {
   "cell_type": "markdown",
   "metadata": {},
   "source": [
    "### Ejercicios 1 a 5:\n",
    "\n",
    "1.\tHaz una función que te imprima listas de números enteros aleatorios con cantidad de 5, 10, 15 elementos. \n",
    "\n",
    "2.\tCon la función que generaste toma la lista de 15, y haz una función que te indique cual de los números es el mayor, y otra que te indique cual es el menor. \n",
    "\n",
    "3.\tToma las listas y ordénalas de mayor a menor, y de menor a mayor. \n",
    "\n",
    "4.\tHaz una sola lista que contenga todos los elementos pares de las 3 primeras listas. \n",
    "\n",
    "5.\tReemplazar todos los números impares del arreglo de 15 elementos del ejercicio 1.) con un -1.\n",
    "\n"
   ]
  },
  {
   "cell_type": "code",
   "execution_count": 114,
   "metadata": {},
   "outputs": [],
   "source": [
    "import random"
   ]
  },
  {
   "cell_type": "markdown",
   "metadata": {},
   "source": [
    "Definimos fun(li,n) en la cual se generarán n números aleatorios entre 1 y 100 y los añadirá a una lista"
   ]
  },
  {
   "cell_type": "code",
   "execution_count": 115,
   "metadata": {},
   "outputs": [],
   "source": [
    "def fun(li,n):\n",
    "    #Esta función va a tomar la lista y el tamaño para generar n números aleatorios y los añadirá en la lista\n",
    "    #Tomaré que generé números aleatorios del 1 al 100\n",
    "    for i in range(n):\n",
    "        li.append(random.randint(1,100))\n",
    "    print(li)"
   ]
  },
  {
   "cell_type": "markdown",
   "metadata": {},
   "source": [
    "Ahora se define la función mayor(li) en la cual me va a regresar el número mayor de la lista "
   ]
  },
  {
   "cell_type": "code",
   "execution_count": 116,
   "metadata": {},
   "outputs": [],
   "source": [
    "#Defino la función que me indica cual de los números es mayor\n",
    "def mayor(li):\n",
    "    #max(list) va a regresar el número mayor\n",
    "    return max(li)"
   ]
  },
  {
   "cell_type": "markdown",
   "metadata": {},
   "source": [
    "Defino la función menor(li) en la cual me va a regresar el número menor de la lista "
   ]
  },
  {
   "cell_type": "code",
   "execution_count": 117,
   "metadata": {},
   "outputs": [],
   "source": [
    "#Defino la función que me indica cual de los números es menor\n",
    "def menor(li):\n",
    "    #min(list) va a generar el número menor\n",
    "    return min(li)"
   ]
  },
  {
   "cell_type": "markdown",
   "metadata": {},
   "source": [
    "Defino las listas a, b, c"
   ]
  },
  {
   "cell_type": "code",
   "execution_count": 118,
   "metadata": {},
   "outputs": [],
   "source": [
    "#Tenemos tres listas\n",
    "a=[]\n",
    "b=[]\n",
    "c=[]\n"
   ]
  },
  {
   "cell_type": "markdown",
   "metadata": {},
   "source": [
    "Añadimos los números a las listas   \n",
    "\n",
    "* Lista a: 5 elementos   \n",
    "* Lista b: 10 elementos   \n",
    "* Lista c: 15 elementos\n"
   ]
  },
  {
   "cell_type": "code",
   "execution_count": 119,
   "metadata": {},
   "outputs": [
    {
     "name": "stdout",
     "output_type": "stream",
     "text": [
      "[20, 34, 36, 94, 36]\n",
      "[90, 57, 15, 72, 58, 16, 4, 3, 75, 78]\n",
      "[53, 17, 22, 68, 40, 9, 54, 27, 75, 86, 24, 76, 71, 1, 94]\n"
     ]
    }
   ],
   "source": [
    "#Se añaden los números aleatorios a las listas \n",
    "#a->lista con 5 elementos\n",
    "#b->lista con 10 elementos\n",
    "#c->lista con 15 elementos\n",
    "\n",
    "fun(a,5) \n",
    "fun(b,10)\n",
    "fun(c,15)\n"
   ]
  },
  {
   "cell_type": "markdown",
   "metadata": {},
   "source": [
    "Los números mayor y menor de la lista c que contiene 15 elementos son:"
   ]
  },
  {
   "cell_type": "code",
   "execution_count": 120,
   "metadata": {},
   "outputs": [
    {
     "name": "stdout",
     "output_type": "stream",
     "text": [
      "Número mayor: 94\n",
      "Número menor: 1\n"
     ]
    }
   ],
   "source": [
    "#Los números mayor y menor de la lista c que contiene 15 elementos son:\n",
    "print(\"Número mayor:\",mayor(c))\n",
    "print(\"Número menor:\",menor(c))"
   ]
  },
  {
   "cell_type": "markdown",
   "metadata": {},
   "source": [
    "Toma las listas y ordénalas de mayor a menor, y de menor a mayor."
   ]
  },
  {
   "cell_type": "code",
   "execution_count": 121,
   "metadata": {},
   "outputs": [],
   "source": [
    "#sorted(list) va a ordenar los números de la lista del menor al mayor\n",
    "#sorted(list,reverse=True) va a ordener los números de la lista de mayor a menor\n"
   ]
  },
  {
   "cell_type": "markdown",
   "metadata": {},
   "source": [
    "##### Lista a:\n"
   ]
  },
  {
   "cell_type": "code",
   "execution_count": 122,
   "metadata": {},
   "outputs": [
    {
     "name": "stdout",
     "output_type": "stream",
     "text": [
      "[20, 34, 36, 36, 94]\n",
      "[94, 36, 36, 34, 20]\n"
     ]
    }
   ],
   "source": [
    "#Lista a\n",
    "print(sorted(a))\n",
    "print(sorted(a,reverse=True))\n",
    "\n"
   ]
  },
  {
   "cell_type": "markdown",
   "metadata": {},
   "source": [
    "##### Lista b:\n"
   ]
  },
  {
   "cell_type": "code",
   "execution_count": 123,
   "metadata": {},
   "outputs": [
    {
     "name": "stdout",
     "output_type": "stream",
     "text": [
      "[3, 4, 15, 16, 57, 58, 72, 75, 78, 90]\n",
      "[90, 78, 75, 72, 58, 57, 16, 15, 4, 3]\n"
     ]
    }
   ],
   "source": [
    "#Lista b\n",
    "print(sorted(b))\n",
    "print(sorted(b,reverse=True))\n",
    "\n"
   ]
  },
  {
   "cell_type": "markdown",
   "metadata": {},
   "source": [
    "##### Lista c:\n"
   ]
  },
  {
   "cell_type": "code",
   "execution_count": 124,
   "metadata": {},
   "outputs": [
    {
     "name": "stdout",
     "output_type": "stream",
     "text": [
      "[1, 9, 17, 22, 24, 27, 40, 53, 54, 68, 71, 75, 76, 86, 94]\n",
      "[94, 86, 76, 75, 71, 68, 54, 53, 40, 27, 24, 22, 17, 9, 1]\n"
     ]
    }
   ],
   "source": [
    "#Lista c\n",
    "print(sorted(c))\n",
    "print(sorted(c,reverse=True))"
   ]
  },
  {
   "cell_type": "markdown",
   "metadata": {},
   "source": [
    "Reemplazar todos los números impares de la lista c con 15 elementos con un -1."
   ]
  },
  {
   "cell_type": "code",
   "execution_count": 125,
   "metadata": {},
   "outputs": [
    {
     "name": "stdout",
     "output_type": "stream",
     "text": [
      "[20, 34, 36, 94, 36, 90, 72, 58, 16, 4, 78, 22, 68, 40, 54, 86, 24, 76, 94]\n"
     ]
    }
   ],
   "source": [
    "x=[]\n",
    "#Leer el contenido de todas las listas\n",
    "for i in a,b,c:\n",
    "    for j in i:\n",
    "        #tomamos todos los elementos pares de las listas y añadimos a una lista x\n",
    "        if(j%2==0):\n",
    "            x.append(j)\n",
    "print(x)"
   ]
  },
  {
   "cell_type": "code",
   "execution_count": 126,
   "metadata": {},
   "outputs": [
    {
     "name": "stdout",
     "output_type": "stream",
     "text": [
      "[-1, -1, 22, 68, 40, -1, 54, -1, -1, 86, 24, 76, -1, -1, 94]\n"
     ]
    }
   ],
   "source": [
    "for i in range(len(c)):\n",
    "    #Reemplazamos los números impares con -1 de la lista c\n",
    "    if(c[i]%2!=0):\n",
    "        c[i]=-1\n",
    "print(c)"
   ]
  },
  {
   "cell_type": "markdown",
   "metadata": {},
   "source": [
    "### Ejercicio 6\n",
    "#### Función convertir de grados Celsius a Fahrenheit"
   ]
  },
  {
   "cell_type": "markdown",
   "metadata": {},
   "source": [
    "6.\tHaz una función que te permita hacer conversiones de grados Celsius a Fahrenheit."
   ]
  },
  {
   "cell_type": "markdown",
   "metadata": {},
   "source": [
    "Creamos la función que hará la conversión de la temperatura"
   ]
  },
  {
   "cell_type": "code",
   "execution_count": 127,
   "metadata": {},
   "outputs": [],
   "source": [
    "def CelFah(Cel):\n",
    "\n",
    "#Formúla de conversión de Celsius a Fahrenheit: F = 1.8*C + 32\n",
    "\n",
    "\n",
    "    Fah = ( Cel * 1.8 ) + 32\n",
    "\n",
    "    return Fah"
   ]
  },
  {
   "cell_type": "markdown",
   "metadata": {},
   "source": [
    "Ahora pedimos al usuario que ingrese la temperatura en grados Celsius, una vez hecho esto se mostrará la temperatura en grados Fahrenheit"
   ]
  },
  {
   "cell_type": "code",
   "execution_count": 128,
   "metadata": {},
   "outputs": [
    {
     "name": "stdout",
     "output_type": "stream",
     "text": [
      "Ingrese la temperatura en grados Celsius : 30\n",
      "Temperatura en grados Fahrenheit : 86.0\n"
     ]
    }
   ],
   "source": [
    "Cel = float(input('Ingrese la temperatura en grados Celsius : '))\n",
    "\n",
    "print('Temperatura en grados Fahrenheit :', CelFah(Cel))"
   ]
  },
  {
   "cell_type": "markdown",
   "metadata": {},
   "source": [
    "### Ejercicio 7\n",
    "\n",
    "7.\tHacer relaciones entre los datos de las siguientes listas. El resultado deberá ser una lista con los elementos que se repitan en ambas listas.\n",
    "\n",
    "a.\t= 1, 2, 3, 9, 3, 4, 3, 4, 5, 6, 11\n",
    "\n",
    "b.\t= 10, 6, 5, 7, 11, 12, 4, 5, 9, 66\n"
   ]
  },
  {
   "cell_type": "code",
   "execution_count": 129,
   "metadata": {},
   "outputs": [
    {
     "name": "stdout",
     "output_type": "stream",
     "text": [
      "[6, 5, 11, 4, 5, 9]\n"
     ]
    }
   ],
   "source": [
    "#Definimos la función de intersección\n",
    "\n",
    "def intersection(a,b):\n",
    "    lista=[] #Agregamos una lista nueva donde se guardarán los elementos que se repitan entre las dos listas\n",
    "    for i in b:\n",
    "        if i in a: #Verificamos que los elementos de la lista b esten en la lista a \n",
    "            lista.append(i) #Agregamos los elementos que se repiten a lista\n",
    "    return lista\n",
    "\n",
    "#Nos dan las siguientes listas para comparar\n",
    "\n",
    "a = [1, 2, 3, 9, 3, 4, 3, 4, 5, 6, 11]\n",
    "\n",
    "b = [10, 6, 5, 7, 11, 12, 4, 5, 9, 66]\n",
    "\n",
    "print(intersection(a,b)) #Mostramos los elementos que repiten en las listas"
   ]
  },
  {
   "cell_type": "code",
   "execution_count": null,
   "metadata": {},
   "outputs": [],
   "source": []
  }
 ],
 "metadata": {
  "kernelspec": {
   "display_name": "Python 3",
   "language": "python",
   "name": "python3"
  },
  "language_info": {
   "codemirror_mode": {
    "name": "ipython",
    "version": 3
   },
   "file_extension": ".py",
   "mimetype": "text/x-python",
   "name": "python",
   "nbconvert_exporter": "python",
   "pygments_lexer": "ipython3",
   "version": "3.8.3"
  }
 },
 "nbformat": 4,
 "nbformat_minor": 4
}
