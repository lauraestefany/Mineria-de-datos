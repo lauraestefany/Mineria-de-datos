{
 "cells": [
  {
   "cell_type": "markdown",
   "metadata": {},
   "source": [
    "# EXAMEN EXTRAORDINARIO\n",
    "\n",
    "## 1588292  Rodríguez de los Reyes, Laura Estefany"
   ]
  },
  {
   "cell_type": "markdown",
   "metadata": {},
   "source": [
    "### Ejercicios 1 a 5:\n",
    "\n",
    "1.\tHaz una función que te imprima listas de números enteros aleatorios con cantidad de 5, 10, 15 elementos. \n",
    "\n",
    "2.\tCon la función que generaste toma la lista de 15, y haz una función que te indique cual de los números es el mayor, y otra que te indique cual es el menor. \n",
    "\n",
    "3.\tToma las listas y ordénalas de mayor a menor, y de menor a mayor. \n",
    "\n",
    "4.\tHaz una sola lista que contenga todos los elementos pares de las 3 primeras listas. \n",
    "\n",
    "5.\tReemplazar todos los números impares del arreglo de 15 elementos del ejercicio 1.) con un -1.\n",
    "\n"
   ]
  },
  {
   "cell_type": "code",
   "execution_count": 92,
   "metadata": {},
   "outputs": [],
   "source": [
    "import random"
   ]
  },
  {
   "cell_type": "markdown",
   "metadata": {},
   "source": [
    "Definimos fun(li,n) en la cual se generarán n números aleatorios entre 1 y 100 y los añadirá a una lista"
   ]
  },
  {
   "cell_type": "code",
   "execution_count": 93,
   "metadata": {},
   "outputs": [],
   "source": [
    "def fun(li,n):\n",
    "    #Esta función va a tomar la lista y el tamaño para generar n números aleatorios y los añadirá en la lista\n",
    "    #Tomaré que generé números aleatorios del 1 al 100\n",
    "    for i in range(n):\n",
    "        li.append(random.randint(1,100))\n",
    "    print(li)"
   ]
  },
  {
   "cell_type": "markdown",
   "metadata": {},
   "source": [
    "Ahora se define la función mayor(li) en la cual me va a regresar el número mayor de la lista "
   ]
  },
  {
   "cell_type": "code",
   "execution_count": 94,
   "metadata": {},
   "outputs": [],
   "source": [
    "#Defino la función que me indica cual de los números es mayor\n",
    "def mayor(li):\n",
    "    #max(list) va a regresar el número mayor\n",
    "    return max(li)"
   ]
  },
  {
   "cell_type": "markdown",
   "metadata": {},
   "source": [
    "Defino la función menor(li) en la cual me va a regresar el número menor de la lista "
   ]
  },
  {
   "cell_type": "code",
   "execution_count": 95,
   "metadata": {},
   "outputs": [],
   "source": [
    "#Defino la función que me indica cual de los números es menor\n",
    "def menor(li):\n",
    "    #min(list) va a generar el número menor\n",
    "    return min(li)"
   ]
  },
  {
   "cell_type": "markdown",
   "metadata": {},
   "source": [
    "Defino las listas a, b, c"
   ]
  },
  {
   "cell_type": "code",
   "execution_count": 96,
   "metadata": {},
   "outputs": [],
   "source": [
    "#Tenemos tres listas\n",
    "a=[]\n",
    "b=[]\n",
    "c=[]\n"
   ]
  },
  {
   "cell_type": "markdown",
   "metadata": {},
   "source": [
    "Añadimos los números a las listas   \n",
    "\n",
    "* Lista a: 5 elementos   \n",
    "* Lista b: 10 elementos   \n",
    "* Lista c: 15 elementos\n"
   ]
  },
  {
   "cell_type": "code",
   "execution_count": 97,
   "metadata": {},
   "outputs": [
    {
     "name": "stdout",
     "output_type": "stream",
     "text": [
      "[32, 47, 36, 7, 11]\n",
      "[43, 41, 6, 100, 48, 31, 54, 79, 82, 91]\n",
      "[86, 84, 49, 98, 62, 23, 8, 61, 11, 33, 27, 24, 89, 100, 64]\n"
     ]
    }
   ],
   "source": [
    "#Se añaden los números aleatorios a las listas \n",
    "#a->lista con 5 elementos\n",
    "#b->lista con 10 elementos\n",
    "#c->lista con 15 elementos\n",
    "\n",
    "fun(a,5) \n",
    "fun(b,10)\n",
    "fun(c,15)\n"
   ]
  },
  {
   "cell_type": "markdown",
   "metadata": {},
   "source": [
    "Los números mayor y menor de la lista c que contiene 15 elementos son:"
   ]
  },
  {
   "cell_type": "code",
   "execution_count": 98,
   "metadata": {},
   "outputs": [
    {
     "name": "stdout",
     "output_type": "stream",
     "text": [
      "Número mayor: 100\n",
      "Número menor: 8\n"
     ]
    }
   ],
   "source": [
    "#Los números mayor y menor de la lista c que contiene 15 elementos son:\n",
    "print(\"Número mayor:\",mayor(c))\n",
    "print(\"Número menor:\",menor(c))"
   ]
  },
  {
   "cell_type": "markdown",
   "metadata": {},
   "source": [
    "Toma las listas y ordénalas de mayor a menor, y de menor a mayor."
   ]
  },
  {
   "cell_type": "code",
   "execution_count": 99,
   "metadata": {},
   "outputs": [],
   "source": [
    "#sorted(list) va a ordenar los números de la lista del menor al mayor\n",
    "#sorted(list,reverse=True) va a ordener los números de la lista de mayor a menor\n"
   ]
  },
  {
   "cell_type": "markdown",
   "metadata": {},
   "source": [
    "##### Lista a:\n"
   ]
  },
  {
   "cell_type": "code",
   "execution_count": 100,
   "metadata": {},
   "outputs": [
    {
     "name": "stdout",
     "output_type": "stream",
     "text": [
      "[7, 11, 32, 36, 47]\n",
      "[47, 36, 32, 11, 7]\n"
     ]
    }
   ],
   "source": [
    "#Lista a\n",
    "print(sorted(a))\n",
    "print(sorted(a,reverse=True))\n",
    "\n"
   ]
  },
  {
   "cell_type": "markdown",
   "metadata": {},
   "source": [
    "##### Lista b:\n"
   ]
  },
  {
   "cell_type": "code",
   "execution_count": 101,
   "metadata": {},
   "outputs": [
    {
     "name": "stdout",
     "output_type": "stream",
     "text": [
      "[6, 31, 41, 43, 48, 54, 79, 82, 91, 100]\n",
      "[100, 91, 82, 79, 54, 48, 43, 41, 31, 6]\n"
     ]
    }
   ],
   "source": [
    "#Lista b\n",
    "print(sorted(b))\n",
    "print(sorted(b,reverse=True))\n",
    "\n"
   ]
  },
  {
   "cell_type": "markdown",
   "metadata": {},
   "source": [
    "##### Lista c:\n"
   ]
  },
  {
   "cell_type": "code",
   "execution_count": 102,
   "metadata": {},
   "outputs": [
    {
     "name": "stdout",
     "output_type": "stream",
     "text": [
      "[8, 11, 23, 24, 27, 33, 49, 61, 62, 64, 84, 86, 89, 98, 100]\n",
      "[100, 98, 89, 86, 84, 64, 62, 61, 49, 33, 27, 24, 23, 11, 8]\n"
     ]
    }
   ],
   "source": [
    "#Lista c\n",
    "print(sorted(c))\n",
    "print(sorted(c,reverse=True))"
   ]
  },
  {
   "cell_type": "markdown",
   "metadata": {},
   "source": [
    "Reemplazar todos los números impares de la lista c con 15 elementos con un -1."
   ]
  },
  {
   "cell_type": "code",
   "execution_count": 103,
   "metadata": {},
   "outputs": [
    {
     "name": "stdout",
     "output_type": "stream",
     "text": [
      "[32, 36, 6, 100, 48, 54, 82, 86, 84, 98, 62, 8, 24, 100, 64]\n"
     ]
    }
   ],
   "source": [
    "x=[]\n",
    "#Leer el contenido de todas las listas\n",
    "for i in a,b,c:\n",
    "    for j in i:\n",
    "        #tomamos todos los elementos pares de las listas y añadimos a una lista x\n",
    "        if(j%2==0):\n",
    "            x.append(j)\n",
    "print(x)"
   ]
  },
  {
   "cell_type": "code",
   "execution_count": 104,
   "metadata": {},
   "outputs": [
    {
     "name": "stdout",
     "output_type": "stream",
     "text": [
      "[86, 84, -1, 98, 62, -1, 8, -1, -1, -1, -1, 24, -1, 100, 64]\n"
     ]
    }
   ],
   "source": [
    "for i in range(len(c)):\n",
    "    #Reemplazamos los números impares con -1 de la lista c\n",
    "    if(c[i]%2!=0):\n",
    "        c[i]=-1\n",
    "print(c)"
   ]
  },
  {
   "cell_type": "markdown",
   "metadata": {},
   "source": [
    "### Ejercicio 6\n",
    "#### Función convertir de grados Celsius a Fahrenheit"
   ]
  },
  {
   "cell_type": "markdown",
   "metadata": {},
   "source": [
    "6.\tHaz una función que te permita hacer conversiones de grados Celsius a Fahrenheit."
   ]
  },
  {
   "cell_type": "markdown",
   "metadata": {},
   "source": [
    "Creamos la función que hará la conversión de la temperatura"
   ]
  },
  {
   "cell_type": "code",
   "execution_count": 105,
   "metadata": {},
   "outputs": [],
   "source": [
    "def CelFah(Cel):\n",
    "\n",
    "#Formúla de conversión de Celsius a Fahrenheit: F = 1.8*C + 32\n",
    "\n",
    "\n",
    "    Fah = ( Cel * 1.8 ) + 32\n",
    "\n",
    "    return Fah"
   ]
  },
  {
   "cell_type": "markdown",
   "metadata": {},
   "source": [
    "Ahora pedimos al usuario que ingrese la temperatura en grados Celsius, una vez hecho esto se mostrará la temperatura en grados Fahrenheit"
   ]
  },
  {
   "cell_type": "code",
   "execution_count": 108,
   "metadata": {},
   "outputs": [
    {
     "name": "stdout",
     "output_type": "stream",
     "text": [
      "Ingrese la temperatura en grados Celsius : 30.5\n",
      "Temperatura en grados Fahrenheit : 86.9\n"
     ]
    }
   ],
   "source": [
    "Cel = float(input('Ingrese la temperatura en grados Celsius : '))\n",
    "\n",
    "print('Temperatura en grados Fahrenheit :', CelFah(Cel))"
   ]
  },
  {
   "cell_type": "markdown",
   "metadata": {},
   "source": [
    "### Ejercicio 7\n",
    "\n",
    "7.\tHacer relaciones entre los datos de las siguientes listas. El resultado deberá ser una lista con los elementos que se repitan en ambas listas.\n",
    "\n",
    "a.\t= 1, 2, 3, 9, 3, 4, 3, 4, 5, 6, 11\n",
    "\n",
    "b.\t= 10, 6, 5, 7, 11, 12, 4, 5, 9, 66\n"
   ]
  },
  {
   "cell_type": "code",
   "execution_count": 113,
   "metadata": {},
   "outputs": [
    {
     "name": "stdout",
     "output_type": "stream",
     "text": [
      "[6, 5, 11, 4, 5, 9]\n"
     ]
    }
   ],
   "source": [
    "#Definimos la función de intersección\n",
    "\n",
    "def intersection(a,b):\n",
    "    lista=[] #Agregamos una lista nueva donde se guardarán los elementos que se repitan entre las dos listas\n",
    "    for i in b:\n",
    "        if i in a: #Verificamos que los elementos de la lista b esten en la lista a \n",
    "            lista.append(i) #Agregamos los elementos que se repiten a lista\n",
    "    return lista\n",
    "\n",
    "#Nos dan las siguientes listas para comparar\n",
    "\n",
    "a = [1, 2, 3, 9, 3, 4, 3, 4, 5, 6, 11]\n",
    "\n",
    "b = [10, 6, 5, 7, 11, 12, 4, 5, 9, 66]\n",
    "\n",
    "print(intersection(a,b)) #Mostramos los elementos que repiten en las listas"
   ]
  },
  {
   "cell_type": "code",
   "execution_count": null,
   "metadata": {},
   "outputs": [],
   "source": []
  }
 ],
 "metadata": {
  "kernelspec": {
   "display_name": "Python 3",
   "language": "python",
   "name": "python3"
  },
  "language_info": {
   "codemirror_mode": {
    "name": "ipython",
    "version": 3
   },
   "file_extension": ".py",
   "mimetype": "text/x-python",
   "name": "python",
   "nbconvert_exporter": "python",
   "pygments_lexer": "ipython3",
   "version": "3.8.3"
  }
 },
 "nbformat": 4,
 "nbformat_minor": 4
}
