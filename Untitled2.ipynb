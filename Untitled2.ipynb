{
 "cells": [
  {
   "cell_type": "code",
   "execution_count": 1,
   "metadata": {},
   "outputs": [],
   "source": [
    "def Load_data():\n",
    "    baskets_data = [\n",
    "        ['A', 'B', 'C', 'E'],\n",
    "        ['B', 'E'],\n",
    "        ['C', 'D', 'E'],\n",
    "        ['A', 'C', 'D'],\n",
    "        ['A', 'C', 'E'],\n",
    "    ]\n",
    "    return baskets_data"
   ]
  },
  {
   "cell_type": "code",
   "execution_count": 2,
   "metadata": {},
   "outputs": [],
   "source": [
    "def createC1(data):\n",
    "\n",
    "    C1 = []\n",
    "    for transaction in data:\n",
    "        for item in transaction:\n",
    "            if not [item] in C1:\n",
    "                C1.append([item])\n",
    "    C1.sort()\n",
    "    \n",
    "    return [set(x) for x in C1]"
   ]
  },
  {
   "cell_type": "code",
   "execution_count": 3,
   "metadata": {},
   "outputs": [],
   "source": [
    "def createCk(Lk, k):\n",
    "\n",
    "    cand_list = []\n",
    "    len_Lk = len(Lk)\n",
    "    \n",
    " \n",
    "    for i in range(len_Lk):\n",
    "        for j in range(i+1, len_Lk):\n",
    "            L1 = list(Lk[i])[:k-2]\n",
    "            L2 = list(Lk[j])[:k-2]\n",
    "            L1.sort()\n",
    "            L2.sort()\n",
    "            if L1==L2:\n",
    "                cand_list.append(Lk[i] | Lk[j])\n",
    "    \n",
    "    return cand_list"
   ]
  },
  {
   "cell_type": "code",
   "execution_count": 4,
   "metadata": {},
   "outputs": [],
   "source": [
    "def scanD(data, Ck, min_support):\n",
    "    \n",
    "    count = {}\n",
    "    for transaction in data:\n",
    "        tr = set(transaction)\n",
    "        for candidate in Ck:\n",
    "            if candidate.issubset(tr):\n",
    "                can = frozenset(candidate)\n",
    "                if can not in count:\n",
    "                    count[can] = 1\n",
    "                else:\n",
    "                    count[can] += 1\n",
    "                    num_items = float(len(D))\n",
    "    \n",
    "    cand_list = []\n",
    "    support_data = {}\n",
    "    \n",
    "\n",
    "    for key in count:\n",
    "        support = count[key]/num_items\n",
    "        \n",
    "\n",
    "        if support >= min_support:\n",
    "            cand_list.insert(0, key)\n",
    "        support_data[key] = support\n",
    "    \n",
    "    return cand_list, support_data"
   ]
  },
  {
   "cell_type": "code",
   "execution_count": 5,
   "metadata": {},
   "outputs": [],
   "source": [
    "min_support = 0.5"
   ]
  },
  {
   "cell_type": "code",
   "execution_count": 6,
   "metadata": {},
   "outputs": [
    {
     "data": {
      "text/plain": [
       "[['A', 'B', 'C', 'E'],\n",
       " ['B', 'E'],\n",
       " ['C', 'D', 'E'],\n",
       " ['A', 'C', 'D'],\n",
       " ['A', 'C', 'E']]"
      ]
     },
     "execution_count": 6,
     "metadata": {},
     "output_type": "execute_result"
    }
   ],
   "source": [
    "data = Load_data()\n",
    "data"
   ]
  },
  {
   "cell_type": "code",
   "execution_count": 7,
   "metadata": {},
   "outputs": [
    {
     "data": {
      "text/plain": [
       "[{'A'}, {'B'}, {'C'}, {'D'}, {'E'}]"
      ]
     },
     "execution_count": 7,
     "metadata": {},
     "output_type": "execute_result"
    }
   ],
   "source": [
    "C1 = createC1(data)\n",
    "C1"
   ]
  },
  {
   "cell_type": "code",
   "execution_count": 8,
   "metadata": {},
   "outputs": [
    {
     "data": {
      "text/plain": [
       "[{'A', 'B', 'C', 'E'},\n",
       " {'B', 'E'},\n",
       " {'C', 'D', 'E'},\n",
       " {'A', 'C', 'D'},\n",
       " {'A', 'C', 'E'}]"
      ]
     },
     "execution_count": 8,
     "metadata": {},
     "output_type": "execute_result"
    }
   ],
   "source": [
    "D = list(map(set, data))\n",
    "D"
   ]
  },
  {
   "cell_type": "code",
   "execution_count": 9,
   "metadata": {},
   "outputs": [],
   "source": [
    "L1, support_data1 = scanD(D, C1, min_support)"
   ]
  },
  {
   "cell_type": "code",
   "execution_count": 10,
   "metadata": {},
   "outputs": [
    {
     "data": {
      "text/plain": [
       "[frozenset({'E'}), frozenset({'C'}), frozenset({'A'})]"
      ]
     },
     "execution_count": 10,
     "metadata": {},
     "output_type": "execute_result"
    }
   ],
   "source": [
    "L1"
   ]
  },
  {
   "cell_type": "code",
   "execution_count": 11,
   "metadata": {},
   "outputs": [
    {
     "data": {
      "text/plain": [
       "{frozenset({'A'}): 0.6,\n",
       " frozenset({'B'}): 0.4,\n",
       " frozenset({'C'}): 0.8,\n",
       " frozenset({'E'}): 0.8,\n",
       " frozenset({'D'}): 0.4}"
      ]
     },
     "execution_count": 11,
     "metadata": {},
     "output_type": "execute_result"
    }
   ],
   "source": [
    "support_data1"
   ]
  },
  {
   "cell_type": "code",
   "execution_count": 12,
   "metadata": {},
   "outputs": [
    {
     "data": {
      "text/plain": [
       "[frozenset({'C', 'E'}), frozenset({'A', 'E'}), frozenset({'A', 'C'})]"
      ]
     },
     "execution_count": 12,
     "metadata": {},
     "output_type": "execute_result"
    }
   ],
   "source": [
    "C2 = createCk(L1, k=2)\n",
    "C2"
   ]
  },
  {
   "cell_type": "code",
   "execution_count": 13,
   "metadata": {},
   "outputs": [],
   "source": [
    "L2, support_data2 = scanD(D, C2, min_support)"
   ]
  },
  {
   "cell_type": "code",
   "execution_count": 14,
   "metadata": {},
   "outputs": [
    {
     "data": {
      "text/plain": [
       "[frozenset({'A', 'C'}), frozenset({'C', 'E'})]"
      ]
     },
     "execution_count": 14,
     "metadata": {},
     "output_type": "execute_result"
    }
   ],
   "source": [
    "L2"
   ]
  },
  {
   "cell_type": "code",
   "execution_count": 15,
   "metadata": {},
   "outputs": [
    {
     "data": {
      "text/plain": [
       "{frozenset({'C', 'E'}): 0.6,\n",
       " frozenset({'A', 'E'}): 0.4,\n",
       " frozenset({'A', 'C'}): 0.6}"
      ]
     },
     "execution_count": 15,
     "metadata": {},
     "output_type": "execute_result"
    }
   ],
   "source": [
    "support_data2"
   ]
  },
  {
   "cell_type": "code",
   "execution_count": 16,
   "metadata": {},
   "outputs": [
    {
     "data": {
      "text/plain": [
       "[frozenset({'A', 'C', 'E'})]"
      ]
     },
     "execution_count": 16,
     "metadata": {},
     "output_type": "execute_result"
    }
   ],
   "source": [
    "C3 = createCk(L2, k=3)\n",
    "C3"
   ]
  },
  {
   "cell_type": "code",
   "execution_count": 17,
   "metadata": {},
   "outputs": [],
   "source": [
    "L3, support_data3 = scanD(D, C3, min_support)"
   ]
  },
  {
   "cell_type": "code",
   "execution_count": 18,
   "metadata": {},
   "outputs": [
    {
     "data": {
      "text/plain": [
       "[]"
      ]
     },
     "execution_count": 18,
     "metadata": {},
     "output_type": "execute_result"
    }
   ],
   "source": [
    "L3"
   ]
  },
  {
   "cell_type": "code",
   "execution_count": 19,
   "metadata": {},
   "outputs": [
    {
     "data": {
      "text/plain": [
       "{frozenset({'A', 'C', 'E'}): 0.4}"
      ]
     },
     "execution_count": 19,
     "metadata": {},
     "output_type": "execute_result"
    }
   ],
   "source": [
    "support_data3"
   ]
  },
  {
   "cell_type": "code",
   "execution_count": null,
   "metadata": {},
   "outputs": [],
   "source": []
  }
 ],
 "metadata": {
  "kernelspec": {
   "display_name": "Python 3",
   "language": "python",
   "name": "python3"
  },
  "language_info": {
   "codemirror_mode": {
    "name": "ipython",
    "version": 3
   },
   "file_extension": ".py",
   "mimetype": "text/x-python",
   "name": "python",
   "nbconvert_exporter": "python",
   "pygments_lexer": "ipython3",
   "version": "3.8.3"
  }
 },
 "nbformat": 4,
 "nbformat_minor": 4
}
